{
  "nbformat": 4,
  "nbformat_minor": 0,
  "metadata": {
    "colab": {
      "provenance": []
    },
    "kernelspec": {
      "name": "python3",
      "display_name": "Python 3"
    },
    "language_info": {
      "name": "python"
    }
  },
  "cells": [
    {
      "cell_type": "markdown",
      "source": [
        "Import das bibliotecas"
      ],
      "metadata": {
        "id": "_f9zkzdR2h5w"
      }
    },
    {
      "cell_type": "code",
      "execution_count": null,
      "metadata": {
        "id": "JXqsO3QR15ad"
      },
      "outputs": [],
      "source": [
        "import pandas as pd\n",
        "import numpy as np\n",
        "from sklearn.linear_model import LinearRegression"
      ]
    },
    {
      "cell_type": "markdown",
      "source": [
        "Carregando os dados"
      ],
      "metadata": {
        "id": "j3Li5fFs2vYI"
      }
    },
    {
      "cell_type": "code",
      "source": [
        "data = pd.read_csv('db.csv')"
      ],
      "metadata": {
        "id": "R4cV1EPy1-Fm"
      },
      "execution_count": null,
      "outputs": []
    },
    {
      "cell_type": "markdown",
      "source": [
        "Invertendo os dados pois os dados estao invertidos os mais recentes estao em primeiro"
      ],
      "metadata": {
        "id": "y5skZZMv2y1U"
      }
    },
    {
      "cell_type": "code",
      "source": [
        "data = data.iloc[::-1].reset_index(drop=True)"
      ],
      "metadata": {
        "id": "DYsXERZr2Ag4"
      },
      "execution_count": null,
      "outputs": []
    },
    {
      "cell_type": "code",
      "source": [
        "data = data.dropna()"
      ],
      "metadata": {
        "id": "DN7HnQIn2CIy"
      },
      "execution_count": null,
      "outputs": []
    },
    {
      "cell_type": "markdown",
      "source": [
        "Adição da Média Simples ( calcula a média móvel simples dos últimos 3 dias)"
      ],
      "metadata": {
        "id": "EzAU_s5U40bN"
      }
    },
    {
      "cell_type": "code",
      "source": [
        "data['rolling_mean'] = data['close'].rolling(window=3).mean()"
      ],
      "metadata": {
        "id": "_TnksdDz4IUS"
      },
      "execution_count": null,
      "outputs": []
    },
    {
      "cell_type": "markdown",
      "source": [
        "Preencher valores ausentes na feature 'rolling_mean' com a média dos valores existentes"
      ],
      "metadata": {
        "id": "j9VIKwHn64vs"
      }
    },
    {
      "cell_type": "code",
      "source": [
        "data['rolling_mean'].fillna(data['rolling_mean'].mean(), inplace=True)"
      ],
      "metadata": {
        "id": "qqprr5Li6oov"
      },
      "execution_count": null,
      "outputs": []
    },
    {
      "cell_type": "markdown",
      "source": [
        "Variável Alvo"
      ],
      "metadata": {
        "id": "jYVYhK5m4-TI"
      }
    },
    {
      "cell_type": "code",
      "source": [
        "X = data[['open', 'high', 'low', 'Volume BTC', 'Volume USD', 'rolling_mean']]\n",
        "y = data['close']"
      ],
      "metadata": {
        "id": "Ck16EA0u2TMY"
      },
      "execution_count": null,
      "outputs": []
    },
    {
      "cell_type": "markdown",
      "source": [
        "Treinamento do Modelo de Regressão Linear"
      ],
      "metadata": {
        "id": "Do8-4u-P5FGu"
      }
    },
    {
      "cell_type": "code",
      "source": [
        "model = LinearRegression()\n",
        "model.fit(X, y)\n"
      ],
      "metadata": {
        "colab": {
          "base_uri": "https://localhost:8080/",
          "height": 75
        },
        "id": "H0NOZozE2V66",
        "outputId": "16fb212e-a0ff-47a2-b029-6565c3159211"
      },
      "execution_count": null,
      "outputs": [
        {
          "output_type": "execute_result",
          "data": {
            "text/plain": [
              "LinearRegression()"
            ],
            "text/html": [
              "<style>#sk-container-id-2 {color: black;background-color: white;}#sk-container-id-2 pre{padding: 0;}#sk-container-id-2 div.sk-toggleable {background-color: white;}#sk-container-id-2 label.sk-toggleable__label {cursor: pointer;display: block;width: 100%;margin-bottom: 0;padding: 0.3em;box-sizing: border-box;text-align: center;}#sk-container-id-2 label.sk-toggleable__label-arrow:before {content: \"▸\";float: left;margin-right: 0.25em;color: #696969;}#sk-container-id-2 label.sk-toggleable__label-arrow:hover:before {color: black;}#sk-container-id-2 div.sk-estimator:hover label.sk-toggleable__label-arrow:before {color: black;}#sk-container-id-2 div.sk-toggleable__content {max-height: 0;max-width: 0;overflow: hidden;text-align: left;background-color: #f0f8ff;}#sk-container-id-2 div.sk-toggleable__content pre {margin: 0.2em;color: black;border-radius: 0.25em;background-color: #f0f8ff;}#sk-container-id-2 input.sk-toggleable__control:checked~div.sk-toggleable__content {max-height: 200px;max-width: 100%;overflow: auto;}#sk-container-id-2 input.sk-toggleable__control:checked~label.sk-toggleable__label-arrow:before {content: \"▾\";}#sk-container-id-2 div.sk-estimator input.sk-toggleable__control:checked~label.sk-toggleable__label {background-color: #d4ebff;}#sk-container-id-2 div.sk-label input.sk-toggleable__control:checked~label.sk-toggleable__label {background-color: #d4ebff;}#sk-container-id-2 input.sk-hidden--visually {border: 0;clip: rect(1px 1px 1px 1px);clip: rect(1px, 1px, 1px, 1px);height: 1px;margin: -1px;overflow: hidden;padding: 0;position: absolute;width: 1px;}#sk-container-id-2 div.sk-estimator {font-family: monospace;background-color: #f0f8ff;border: 1px dotted black;border-radius: 0.25em;box-sizing: border-box;margin-bottom: 0.5em;}#sk-container-id-2 div.sk-estimator:hover {background-color: #d4ebff;}#sk-container-id-2 div.sk-parallel-item::after {content: \"\";width: 100%;border-bottom: 1px solid gray;flex-grow: 1;}#sk-container-id-2 div.sk-label:hover label.sk-toggleable__label {background-color: #d4ebff;}#sk-container-id-2 div.sk-serial::before {content: \"\";position: absolute;border-left: 1px solid gray;box-sizing: border-box;top: 0;bottom: 0;left: 50%;z-index: 0;}#sk-container-id-2 div.sk-serial {display: flex;flex-direction: column;align-items: center;background-color: white;padding-right: 0.2em;padding-left: 0.2em;position: relative;}#sk-container-id-2 div.sk-item {position: relative;z-index: 1;}#sk-container-id-2 div.sk-parallel {display: flex;align-items: stretch;justify-content: center;background-color: white;position: relative;}#sk-container-id-2 div.sk-item::before, #sk-container-id-2 div.sk-parallel-item::before {content: \"\";position: absolute;border-left: 1px solid gray;box-sizing: border-box;top: 0;bottom: 0;left: 50%;z-index: -1;}#sk-container-id-2 div.sk-parallel-item {display: flex;flex-direction: column;z-index: 1;position: relative;background-color: white;}#sk-container-id-2 div.sk-parallel-item:first-child::after {align-self: flex-end;width: 50%;}#sk-container-id-2 div.sk-parallel-item:last-child::after {align-self: flex-start;width: 50%;}#sk-container-id-2 div.sk-parallel-item:only-child::after {width: 0;}#sk-container-id-2 div.sk-dashed-wrapped {border: 1px dashed gray;margin: 0 0.4em 0.5em 0.4em;box-sizing: border-box;padding-bottom: 0.4em;background-color: white;}#sk-container-id-2 div.sk-label label {font-family: monospace;font-weight: bold;display: inline-block;line-height: 1.2em;}#sk-container-id-2 div.sk-label-container {text-align: center;}#sk-container-id-2 div.sk-container {/* jupyter's `normalize.less` sets `[hidden] { display: none; }` but bootstrap.min.css set `[hidden] { display: none !important; }` so we also need the `!important` here to be able to override the default hidden behavior on the sphinx rendered scikit-learn.org. See: https://github.com/scikit-learn/scikit-learn/issues/21755 */display: inline-block !important;position: relative;}#sk-container-id-2 div.sk-text-repr-fallback {display: none;}</style><div id=\"sk-container-id-2\" class=\"sk-top-container\"><div class=\"sk-text-repr-fallback\"><pre>LinearRegression()</pre><b>In a Jupyter environment, please rerun this cell to show the HTML representation or trust the notebook. <br />On GitHub, the HTML representation is unable to render, please try loading this page with nbviewer.org.</b></div><div class=\"sk-container\" hidden><div class=\"sk-item\"><div class=\"sk-estimator sk-toggleable\"><input class=\"sk-toggleable__control sk-hidden--visually\" id=\"sk-estimator-id-2\" type=\"checkbox\" checked><label for=\"sk-estimator-id-2\" class=\"sk-toggleable__label sk-toggleable__label-arrow\">LinearRegression</label><div class=\"sk-toggleable__content\"><pre>LinearRegression()</pre></div></div></div></div></div>"
            ]
          },
          "metadata": {},
          "execution_count": 48
        }
      ]
    },
    {
      "cell_type": "markdown",
      "source": [
        "Resultado onde consegue prever os 1 dia"
      ],
      "metadata": {
        "id": "XpUiHdfJ7G5k"
      }
    },
    {
      "cell_type": "code",
      "source": [
        "ultimo_valores = X.iloc[-1].values.reshape(1, -1)\n",
        "\n",
        "previsao_atual = model.predict(ultimo_valores)\n",
        "previsoes_futuras = []\n",
        "\n",
        "for i in range(1, 8):\n",
        "    previsao_futura = previsao_atual * (1 + (i * 0.01))\n",
        "    previsoes_futuras.append(previsao_futura)\n",
        "\n",
        "    previsao_futura = previsao_atual * (1 - (i * 0.01))\n",
        "    previsoes_futuras.append(previsao_futura)\n",
        "\n",
        "for i, previsao in enumerate(previsoes_futuras, start=1):\n",
        "    if i % 2 == 0:\n",
        "        print(f\"Previsão de queda para o dia {i // 2}: {previsao}\")\n",
        "    else:\n",
        "        print(f\"Previsão de alta para o dia {i // 2}: {previsao}\")"
      ],
      "metadata": {
        "colab": {
          "base_uri": "https://localhost:8080/"
        },
        "id": "K9pvSBBm7GFH",
        "outputId": "702286cc-9f39-4b6c-e864-40e054724efd"
      },
      "execution_count": null,
      "outputs": [
        {
          "output_type": "stream",
          "name": "stdout",
          "text": [
            "Previsão de alta para o dia 0: [43341.76979696]\n",
            "Previsão de queda para o dia 1: [42483.51692969]\n",
            "Previsão de alta para o dia 1: [43770.89623059]\n",
            "Previsão de queda para o dia 2: [42054.39049606]\n",
            "Previsão de alta para o dia 2: [44200.02266422]\n",
            "Previsão de queda para o dia 3: [41625.26406242]\n",
            "Previsão de alta para o dia 3: [44629.14909786]\n",
            "Previsão de queda para o dia 4: [41196.13762879]\n",
            "Previsão de alta para o dia 4: [45058.27553149]\n",
            "Previsão de queda para o dia 5: [40767.01119516]\n",
            "Previsão de alta para o dia 5: [45487.40196512]\n",
            "Previsão de queda para o dia 6: [40337.88476152]\n",
            "Previsão de alta para o dia 6: [45916.52839875]\n",
            "Previsão de queda para o dia 7: [39908.75832789]\n"
          ]
        },
        {
          "output_type": "stream",
          "name": "stderr",
          "text": [
            "/usr/local/lib/python3.10/dist-packages/sklearn/base.py:439: UserWarning: X does not have valid feature names, but LinearRegression was fitted with feature names\n",
            "  warnings.warn(\n"
          ]
        }
      ]
    }
  ]
}